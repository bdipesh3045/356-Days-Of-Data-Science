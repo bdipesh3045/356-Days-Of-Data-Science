{
  "nbformat": 4,
  "nbformat_minor": 0,
  "metadata": {
    "colab": {
      "provenance": [],
      "authorship_tag": "ABX9TyPOw44gJQFvDw8e8C3s6qOe",
      "include_colab_link": true
    },
    "kernelspec": {
      "name": "python3",
      "display_name": "Python 3"
    },
    "language_info": {
      "name": "python"
    }
  },
  "cells": [
    {
      "cell_type": "markdown",
      "metadata": {
        "id": "view-in-github",
        "colab_type": "text"
      },
      "source": [
        "<a href=\"https://colab.research.google.com/github/bdipesh3045/356-Days-Of-Data-Science/blob/main/Gradient_Descent.ipynb\" target=\"_parent\"><img src=\"https://colab.research.google.com/assets/colab-badge.svg\" alt=\"Open In Colab\"/></a>"
      ]
    },
    {
      "cell_type": "code",
      "source": [
        "# Load our data set\n",
        "import numpy as np\n",
        "x_train = np.array([1.0, 2.0])   #features\n",
        "y_train = np.array([300.0, 500.0])   #target value"
      ],
      "metadata": {
        "id": "cf1-WP2n_CfP"
      },
      "execution_count": 3,
      "outputs": []
    },
    {
      "cell_type": "code",
      "source": [
        "def cost(x,y,w,b):\n",
        "  leng=x.shape[0]\n",
        "  cos=0\n",
        "  for i in range(leng):\n",
        "    d_c=w*x[i]+b\n",
        "    cos=cos+(d_c-y[i])**2\n",
        "  cos=1/(2*leng)*cos\n",
        "  return cos"
      ],
      "metadata": {
        "id": "G__QD3eIJ3yr"
      },
      "execution_count": 17,
      "outputs": []
    },
    {
      "cell_type": "code",
      "execution_count": 5,
      "metadata": {
        "id": "t7fWe5xl7Dyq"
      },
      "outputs": [],
      "source": [
        "# Steps to folow calculate partial derivative and avg it out\n",
        "def compute_gradient(x,y,w,b):\n",
        "  total_w=0\n",
        "  total_b=0\n",
        "  leng=x.shape[0]\n",
        "  for i in range(leng):\n",
        "    d_eq=w*x[i]+b\n",
        "    d_w=(d_eq-y[i])*x[i]\n",
        "    d_b=(d_eq-y[i])\n",
        "    total_w+=d_w\n",
        "    total_b+=d_b\n",
        "  total_w=1/leng*(total_w)\n",
        "  total_b=1/leng*(total_b)\n",
        "  return total_w,total_b"
      ]
    },
    {
      "cell_type": "code",
      "source": [],
      "metadata": {
        "id": "4R6iTvPcMdSM"
      },
      "execution_count": null,
      "outputs": []
    },
    {
      "cell_type": "code",
      "source": [
        "data=[]\n",
        "w_chan=[]\n",
        "costy=[]\n",
        "b_chan=[]\n",
        "def find(x,y,steps,learn):\n",
        "  b_in=0\n",
        "  w_in=0\n",
        "  val=1\n",
        "  for i in range(steps):\n",
        "    dw,db=compute_gradient(x,y,w_in,b_in)\n",
        "    b_in=b_in-learn*db\n",
        "    w_in=w_in-learn*dw\n",
        "    if i % 100 == 0:\n",
        "      w_chan.append(w_in)\n",
        "      b_chan.append(b_in)\n",
        "      cost_value=cost(x,y,w=w_in,b=b_in)\n",
        "      data.append(val)\n",
        "      val+=1\n",
        "      costy.append(cost_value)\n",
        "      print(cost_value)\n",
        "\n",
        "      # print(b_in,w_in)\n",
        "  return b_in,w_in\n",
        "\n"
      ],
      "metadata": {
        "id": "vly8puXk9bw2"
      },
      "execution_count": 33,
      "outputs": []
    },
    {
      "cell_type": "code",
      "source": [
        "steps=10000\n",
        "w_final,b_final=find(x=x_train,y=y_train,steps=steps,learn=0.01)\n",
        "print(f\"(w,b) found by gradient descent: ({w_final:8.4f},{b_final:8.4f})\")"
      ],
      "metadata": {
        "colab": {
          "base_uri": "https://localhost:8080/"
        },
        "id": "BV_a4zh_-5AG",
        "outputId": "2f457d15-b614-4ece-93c3-1e8087cd9291"
      },
      "execution_count": 34,
      "outputs": [
        {
          "output_type": "stream",
          "name": "stdout",
          "text": [
            "79274.8125\n",
            "86.84970508329027\n",
            "11.038223294493996\n",
            "9.479334741089724\n",
            "8.191983243496715\n",
            "7.079510310868737\n",
            "6.118111466142633\n",
            "5.287270767157324\n",
            "4.569258392878347\n",
            "3.948752235383136\n",
            "3.4125109319154174\n",
            "2.949091299295567\n",
            "2.548604140792952\n",
            "2.202503214470976\n",
            "1.9034028596711572\n",
            "1.6449203898549272\n",
            "1.4215398885278132\n",
            "1.2284945017028241\n",
            "1.0616647150697145\n",
            "0.9174904451438306\n",
            "0.7928950684538176\n",
            "0.6852197675800903\n",
            "0.5921667930134331\n",
            "0.5117504300645481\n",
            "0.4422546244758681\n",
            "0.3821963624840068\n",
            "0.33029402387623996\n",
            "0.28544003270810303\n",
            "0.24667722205878423\n",
            "0.21317840845702343\n",
            "0.1842287401041018\n",
            "0.15921044221131833\n",
            "0.13758963392355794\n",
            "0.1189049355072536\n",
            "0.1027576226842888\n",
            "0.08880311800919871\n",
            "0.07674363771905501\n",
            "0.06632183714251148\n",
            "0.05731531906346955\n",
            "0.049531887849966594\n",
            "0.04280544807338754\n",
            "0.03699246009589656\n",
            "0.03196887698968801\n",
            "0.027627497423315734\n",
            "0.02387567802651798\n",
            "0.020633356416315897\n",
            "0.017831342696523346\n",
            "0.01540984297200712\n",
            "0.013317183369942085\n",
            "0.011508707339256798\n",
            "0.0099458226969803\n",
            "0.008595178085934518\n",
            "0.007427951269563228\n",
            "0.006419234076522876\n",
            "0.00554750086986524\n",
            "0.004794149198215955\n",
            "0.00414310282664904\n",
            "0.00358046867597704\n",
            "0.0030942403498178386\n",
            "0.0026740419226860064\n",
            "0.0023109065217603642\n",
            "0.0019970849772465845\n",
            "0.0017258804580717688\n",
            "0.0014915055641081866\n",
            "0.0012889588252531095\n",
            "0.001113917971998578\n",
            "0.0009626476998564485\n",
            "0.0008319199594003336\n",
            "0.0007189450709245652\n",
            "0.0006213121937599937\n",
            "0.0005369378798549629\n",
            "0.00046402161380046175\n",
            "0.0004010073905250198\n",
            "0.0003465505107380359\n",
            "0.00029948888556717194\n",
            "0.000258818238031905\n",
            "0.00022367067215521772\n",
            "0.00019329615240017739\n",
            "0.00016704649819513224\n",
            "0.00014436155201662395\n",
            "0.00012475722583692557\n",
            "0.00010781517087519805\n",
            "9.317385019508706e-05\n",
            "8.052082364408339e-05\n",
            "6.958608050187763e-05\n",
            "6.013627755423343e-05\n",
            "5.196975964174503e-05\n",
            "4.491225641300794e-05\n",
            "3.88131634627756e-05\n",
            "3.3542328493674426e-05\n",
            "2.8987273914308145e-05\n",
            "2.505079661177804e-05\n",
            "2.1648893674476164e-05\n",
            "1.8708969801985955e-05\n",
            "1.6168288150027935e-05\n",
            "1.3972631548662224e-05\n",
            "1.2075145530754985e-05\n",
            "1.0435338474447578e-05\n",
            "9.018217527861667e-06\n",
            "7.793541874956948e-06\n",
            "(w,b) found by gradient descent: (100.0116,199.9929)\n"
          ]
        }
      ]
    },
    {
      "cell_type": "code",
      "source": [
        "import matplotlib.pyplot as plt\n",
        "plt.plot(data,b_chan)\n",
        "plt.xlabel(\"Iteration\")\n",
        "plt.ylabel(\"w value\")\n",
        "plt.plot(data,w_chan)\n",
        "plt.plot(data,w_chan)\n",
        "plt.show()"
      ],
      "metadata": {
        "colab": {
          "base_uri": "https://localhost:8080/",
          "height": 449
        },
        "id": "8qw9TJ8Q_dbh",
        "outputId": "985abb88-d1de-48b2-d6bb-f8e09a3fa308"
      },
      "execution_count": 31,
      "outputs": [
        {
          "output_type": "display_data",
          "data": {
            "text/plain": [
              "<Figure size 640x480 with 1 Axes>"
            ],
            "image/png": "[encoded data removed]"
          },
          "metadata": {}
        }
      ]
    },
    {
      "cell_type": "code",
      "source": [
        "plt.plot(data[:10],costy[:10])"
      ],
      "metadata": {
        "colab": {
          "base_uri": "https://localhost:8080/",
          "height": 448
        },
        "id": "pXE09V5gLpJ_",
        "outputId": "7b00db95-4f7b-4ff4-9291-03c8563ba3cd"
      },
      "execution_count": 38,
      "outputs": [
        {
          "output_type": "execute_result",
          "data": {
            "text/plain": [
              "[<matplotlib.lines.Line2D at 0x7abc256a32d0>]"
            ]
          },
          "metadata": {},
          "execution_count": 38
        },
        {
          "output_type": "display_data",
          "data": {
            "text/plain": [
              "<Figure size 640x480 with 1 Axes>"
            ],
            "image/png": "[encoded data removed]"
          },
          "metadata": {}
        }
      ]
    },
    {
      "cell_type": "code",
      "source": [],
      "metadata": {
        "id": "18VRgfU6Nevt"
      },
      "execution_count": null,
      "outputs": []
    }
  ]
}