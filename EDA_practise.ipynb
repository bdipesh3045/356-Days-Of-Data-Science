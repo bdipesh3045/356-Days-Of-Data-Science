{
  "nbformat": 4,
  "nbformat_minor": 0,
  "metadata": {
    "colab": {
      "provenance": [],
      "authorship_tag": "ABX9TyOyz6jl+EMn6NFrDbbJKF+5",
      "include_colab_link": true
    },
    "kernelspec": {
      "name": "python3",
      "display_name": "Python 3"
    },
    "language_info": {
      "name": "python"
    }
  },
  "cells": [
    {
      "cell_type": "markdown",
      "metadata": {
        "id": "view-in-github",
        "colab_type": "text"
      },
      "source": [
        "<a href=\"https://colab.research.google.com/github/bdipesh3045/356-Days-Of-Data-Science/blob/main/EDA_practise.ipynb\" target=\"_parent\"><img src=\"https://colab.research.google.com/assets/colab-badge.svg\" alt=\"Open In Colab\"/></a>"
      ]
    },
    {
      "cell_type": "code",
      "source": [
        "pip install kagglehub"
      ],
      "metadata": {
        "id": "_-KJ_tkkiF_r",
        "colab": {
          "base_uri": "https://localhost:8080/"
        },
        "outputId": "798d67bb-3b08-4354-995d-a923788ab8ae"
      },
      "execution_count": 22,
      "outputs": [
        {
          "output_type": "stream",
          "name": "stdout",
          "text": [
            "Requirement already satisfied: kagglehub in /usr/local/lib/python3.11/dist-packages (0.3.12)\n",
            "Requirement already satisfied: packaging in /usr/local/lib/python3.11/dist-packages (from kagglehub) (24.2)\n",
            "Requirement already satisfied: pyyaml in /usr/local/lib/python3.11/dist-packages (from kagglehub) (6.0.2)\n",
            "Requirement already satisfied: requests in /usr/local/lib/python3.11/dist-packages (from kagglehub) (2.32.3)\n",
            "Requirement already satisfied: tqdm in /usr/local/lib/python3.11/dist-packages (from kagglehub) (4.67.1)\n",
            "Requirement already satisfied: charset-normalizer<4,>=2 in /usr/local/lib/python3.11/dist-packages (from requests->kagglehub) (3.4.2)\n",
            "Requirement already satisfied: idna<4,>=2.5 in /usr/local/lib/python3.11/dist-packages (from requests->kagglehub) (3.10)\n",
            "Requirement already satisfied: urllib3<3,>=1.21.1 in /usr/local/lib/python3.11/dist-packages (from requests->kagglehub) (2.4.0)\n",
            "Requirement already satisfied: certifi>=2017.4.17 in /usr/local/lib/python3.11/dist-packages (from requests->kagglehub) (2025.4.26)\n"
          ]
        }
      ]
    },
    {
      "cell_type": "code",
      "execution_count": 23,
      "metadata": {
        "id": "5KD1zvONhhNE",
        "colab": {
          "base_uri": "https://localhost:8080/"
        },
        "outputId": "13fdf02a-0f50-4dc1-f3a3-ed10ab182911"
      },
      "outputs": [
        {
          "output_type": "stream",
          "name": "stdout",
          "text": [
            "Path to dataset files: /kaggle/input/sa-me-happiness-index\n",
            "Files inside the path: ['2023_SouthAsia_MiddleEast_Happiness_Education_Income.csv']\n"
          ]
        }
      ],
      "source": [
        "\n",
        "import kagglehub\n",
        "from kagglehub import KaggleDatasetAdapter\n",
        "import os\n",
        "\n",
        "\n",
        "\n",
        "# Load the latest version\n",
        "path = kagglehub.dataset_download(\n",
        "  \"towhid121/sa-me-happiness-index\",\n",
        "\n",
        "  # https://github.com/Kaggle/kagglehub/blob/main/README.md#kaggledatasetadapterpandas\n",
        ")\n",
        "print(\"Path to dataset files:\", path)\n",
        "print(\"Files inside the path:\", os.listdir(path))\n",
        "csv_file = os.path.join(path,os.listdir(path)[0])\n",
        "\n"
      ]
    },
    {
      "cell_type": "code",
      "source": [
        "import pandas as pd"
      ],
      "metadata": {
        "id": "i-Z7nZ1Ji5KM"
      },
      "execution_count": 24,
      "outputs": []
    },
    {
      "cell_type": "code",
      "source": [
        "df=pd.read_csv(csv_file)"
      ],
      "metadata": {
        "id": "0GyBlyzfjUgh"
      },
      "execution_count": 25,
      "outputs": []
    },
    {
      "cell_type": "code",
      "source": [
        "df.head()"
      ],
      "metadata": {
        "colab": {
          "base_uri": "https://localhost:8080/",
          "height": 313
        },
        "id": "LAY0PADljcf8",
        "outputId": "c7e28447-c8c8-456c-bfbc-a0f7f9d4ff99"
      },
      "execution_count": 26,
      "outputs": [
        {
          "output_type": "execute_result",
          "data": {
            "text/plain": [
              "      Country      Region  Happiness_Score  GDP_per_Capita_USD  \\\n",
              "0       India  South Asia            4.036              2450.0   \n",
              "1    Pakistan  South Asia            4.516              1590.0   \n",
              "2  Bangladesh  South Asia            5.155              2680.0   \n",
              "3       Nepal  South Asia            5.269              1380.0   \n",
              "4   Sri Lanka  South Asia            4.325              3350.0   \n",
              "\n",
              "   Social_Support  Literacy_Rate(%)  Offline_School_Enrollment(%)  \\\n",
              "0           0.797              77.7                          73.2   \n",
              "1           0.708              60.7                          63.5   \n",
              "2           0.745              75.2                          77.1   \n",
              "3           0.731              68.5                          66.0   \n",
              "4           0.832              92.3                          97.6   \n",
              "\n",
              "   Online_Education_Access(%)  Median_Income_USD  Unemployment_Rate(%)  \\\n",
              "0                        22.5             2340.0                   7.6   \n",
              "1                        11.8             1560.0                   6.5   \n",
              "2                        15.3             2550.0                   4.1   \n",
              "3                        10.4             1300.0                   4.3   \n",
              "4                        18.9             3100.0                   5.8   \n",
              "\n",
              "   Poverty_Rate(%)    \n",
              "0               18.7  \n",
              "1               21.9  \n",
              "2               14.8  \n",
              "3               15.1  \n",
              "4               25.6  "
            ],
            "text/html": [
              "\n",
              "  <div id=\"df-a22cdcee-98f3-4a9c-9b6d-bb4891a7b1ab\" class=\"colab-df-container\">\n",
              "    <div>\n",
              "<style scoped>\n",
              "    .dataframe tbody tr th:only-of-type {\n",
              "        vertical-align: middle;\n",
              "    }\n",
              "\n",
              "    .dataframe tbody tr th {\n",
              "        vertical-align: top;\n",
              "    }\n",
              "\n",
              "    .dataframe thead th {\n",
              "        text-align: right;\n",
              "    }\n",
              "</style>\n",
              "<table border=\"1\" class=\"dataframe\">\n",
              "  <thead>\n",
              "    <tr style=\"text-align: right;\">\n",
              "      <th></th>\n",
              "      <th>Country</th>\n",
              "      <th>Region</th>\n",
              "      <th>Happiness_Score</th>\n",
              "      <th>GDP_per_Capita_USD</th>\n",
              "      <th>Social_Support</th>\n",
              "      <th>Literacy_Rate(%)</th>\n",
              "      <th>Offline_School_Enrollment(%)</th>\n",
              "      <th>Online_Education_Access(%)</th>\n",
              "      <th>Median_Income_USD</th>\n",
              "      <th>Unemployment_Rate(%)</th>\n",
              "      <th>Poverty_Rate(%)</th>\n",
              "    </tr>\n",
              "  </thead>\n",
              "  <tbody>\n",
              "    <tr>\n",
              "      <th>0</th>\n",
              "      <td>India</td>\n",
              "      <td>South Asia</td>\n",
              "      <td>4.036</td>\n",
              "      <td>2450.0</td>\n",
              "      <td>0.797</td>\n",
              "      <td>77.7</td>\n",
              "      <td>73.2</td>\n",
              "      <td>22.5</td>\n",
              "      <td>2340.0</td>\n",
              "      <td>7.6</td>\n",
              "      <td>18.7</td>\n",
              "    </tr>\n",
              "    <tr>\n",
              "      <th>1</th>\n",
              "      <td>Pakistan</td>\n",
              "      <td>South Asia</td>\n",
              "      <td>4.516</td>\n",
              "      <td>1590.0</td>\n",
              "      <td>0.708</td>\n",
              "      <td>60.7</td>\n",
              "      <td>63.5</td>\n",
              "      <td>11.8</td>\n",
              "      <td>1560.0</td>\n",
              "      <td>6.5</td>\n",
              "      <td>21.9</td>\n",
              "    </tr>\n",
              "    <tr>\n",
              "      <th>2</th>\n",
              "      <td>Bangladesh</td>\n",
              "      <td>South Asia</td>\n",
              "      <td>5.155</td>\n",
              "      <td>2680.0</td>\n",
              "      <td>0.745</td>\n",
              "      <td>75.2</td>\n",
              "      <td>77.1</td>\n",
              "      <td>15.3</td>\n",
              "      <td>2550.0</td>\n",
              "      <td>4.1</td>\n",
              "      <td>14.8</td>\n",
              "    </tr>\n",
              "    <tr>\n",
              "      <th>3</th>\n",
              "      <td>Nepal</td>\n",
              "      <td>South Asia</td>\n",
              "      <td>5.269</td>\n",
              "      <td>1380.0</td>\n",
              "      <td>0.731</td>\n",
              "      <td>68.5</td>\n",
              "      <td>66.0</td>\n",
              "      <td>10.4</td>\n",
              "      <td>1300.0</td>\n",
              "      <td>4.3</td>\n",
              "      <td>15.1</td>\n",
              "    </tr>\n",
              "    <tr>\n",
              "      <th>4</th>\n",
              "      <td>Sri Lanka</td>\n",
              "      <td>South Asia</td>\n",
              "      <td>4.325</td>\n",
              "      <td>3350.0</td>\n",
              "      <td>0.832</td>\n",
              "      <td>92.3</td>\n",
              "      <td>97.6</td>\n",
              "      <td>18.9</td>\n",
              "      <td>3100.0</td>\n",
              "      <td>5.8</td>\n",
              "      <td>25.6</td>\n",
              "    </tr>\n",
              "  </tbody>\n",
              "</table>\n",
              "</div>\n",
              "    <div class=\"colab-df-buttons\">\n",
              "\n",
              "  <div class=\"colab-df-container\">\n",
              "    <button class=\"colab-df-convert\" onclick=\"convertToInteractive('df-a22cdcee-98f3-4a9c-9b6d-bb4891a7b1ab')\"\n",
              "            title=\"Convert this dataframe to an interactive table.\"\n",
              "            style=\"display:none;\">\n",
              "\n",
              "  <svg xmlns=\"http://www.w3.org/2000/svg\" height=\"24px\" viewBox=\"0 -960 960 960\">\n",
              "    <path d=\"M120-120v-720h720v720H120Zm60-500h600v-160H180v160Zm220 220h160v-160H400v160Zm0 220h160v-160H400v160ZM180-400h160v-160H180v160Zm440 0h160v-160H620v160ZM180-180h160v-160H180v160Zm440 0h160v-160H620v160Z\"/>\n",
              "  </svg>\n",
              "    </button>\n",
              "\n",
              "  <style>\n",
              "    .colab-df-container {\n",
              "      display:flex;\n",
              "      gap: 12px;\n",
              "    }\n",
              "\n",
              "    .colab-df-convert {\n",
              "      background-color: #E8F0FE;\n",
              "      border: none;\n",
              "      border-radius: 50%;\n",
              "      cursor: pointer;\n",
              "      display: none;\n",
              "      fill: #1967D2;\n",
              "      height: 32px;\n",
              "      padding: 0 0 0 0;\n",
              "      width: 32px;\n",
              "    }\n",
              "\n",
              "    .colab-df-convert:hover {\n",
              "      background-color: #E2EBFA;\n",
              "      box-shadow: 0px 1px 2px rgba(60, 64, 67, 0.3), 0px 1px 3px 1px rgba(60, 64, 67, 0.15);\n",
              "      fill: #174EA6;\n",
              "    }\n",
              "\n",
              "    .colab-df-buttons div {\n",
              "      margin-bottom: 4px;\n",
              "    }\n",
              "\n",
              "    [theme=dark] .colab-df-convert {\n",
              "      background-color: #3B4455;\n",
              "      fill: #D2E3FC;\n",
              "    }\n",
              "\n",
              "    [theme=dark] .colab-df-convert:hover {\n",
              "      background-color: #434B5C;\n",
              "      box-shadow: 0px 1px 3px 1px rgba(0, 0, 0, 0.15);\n",
              "      filter: drop-shadow(0px 1px 2px rgba(0, 0, 0, 0.3));\n",
              "      fill: #FFFFFF;\n",
              "    }\n",
              "  </style>\n",
              "\n",
              "    <script>\n",
              "      const buttonEl =\n",
              "        document.querySelector('#df-a22cdcee-98f3-4a9c-9b6d-bb4891a7b1ab button.colab-df-convert');\n",
              "      buttonEl.style.display =\n",
              "        google.colab.kernel.accessAllowed ? 'block' : 'none';\n",
              "\n",
              "      async function convertToInteractive(key) {\n",
              "        const element = document.querySelector('#df-a22cdcee-98f3-4a9c-9b6d-bb4891a7b1ab');\n",
              "        const dataTable =\n",
              "          await google.colab.kernel.invokeFunction('convertToInteractive',\n",
              "                                                    [key], {});\n",
              "        if (!dataTable) return;\n",
              "\n",
              "        const docLinkHtml = 'Like what you see? Visit the ' +\n",
              "          '<a target=\"_blank\" href=https://colab.research.google.com/notebooks/data_table.ipynb>data table notebook</a>'\n",
              "          + ' to learn more about interactive tables.';\n",
              "        element.innerHTML = '';\n",
              "        dataTable['output_type'] = 'display_data';\n",
              "        await google.colab.output.renderOutput(dataTable, element);\n",
              "        const docLink = document.createElement('div');\n",
              "        docLink.innerHTML = docLinkHtml;\n",
              "        element.appendChild(docLink);\n",
              "      }\n",
              "    </script>\n",
              "  </div>\n",
              "\n",
              "\n",
              "    <div id=\"df-d79979f4-3c67-4314-93a3-f7c6a29fd556\">\n",
              "      <button class=\"colab-df-quickchart\" onclick=\"quickchart('df-d79979f4-3c67-4314-93a3-f7c6a29fd556')\"\n",
              "                title=\"Suggest charts\"\n",
              "                style=\"display:none;\">\n",
              "\n",
              "<svg xmlns=\"http://www.w3.org/2000/svg\" height=\"24px\"viewBox=\"0 0 24 24\"\n",
              "     width=\"24px\">\n",
              "    <g>\n",
              "        <path d=\"M19 3H5c-1.1 0-2 .9-2 2v14c0 1.1.9 2 2 2h14c1.1 0 2-.9 2-2V5c0-1.1-.9-2-2-2zM9 17H7v-7h2v7zm4 0h-2V7h2v10zm4 0h-2v-4h2v4z\"/>\n",
              "    </g>\n",
              "</svg>\n",
              "      </button>\n",
              "\n",
              "<style>\n",
              "  .colab-df-quickchart {\n",
              "      --bg-color: #E8F0FE;\n",
              "      --fill-color: #1967D2;\n",
              "      --hover-bg-color: #E2EBFA;\n",
              "      --hover-fill-color: #174EA6;\n",
              "      --disabled-fill-color: #AAA;\n",
              "      --disabled-bg-color: #DDD;\n",
              "  }\n",
              "\n",
              "  [theme=dark] .colab-df-quickchart {\n",
              "      --bg-color: #3B4455;\n",
              "      --fill-color: #D2E3FC;\n",
              "      --hover-bg-color: #434B5C;\n",
              "      --hover-fill-color: #FFFFFF;\n",
              "      --disabled-bg-color: #3B4455;\n",
              "      --disabled-fill-color: #666;\n",
              "  }\n",
              "\n",
              "  .colab-df-quickchart {\n",
              "    background-color: var(--bg-color);\n",
              "    border: none;\n",
              "    border-radius: 50%;\n",
              "    cursor: pointer;\n",
              "    display: none;\n",
              "    fill: var(--fill-color);\n",
              "    height: 32px;\n",
              "    padding: 0;\n",
              "    width: 32px;\n",
              "  }\n",
              "\n",
              "  .colab-df-quickchart:hover {\n",
              "    background-color: var(--hover-bg-color);\n",
              "    box-shadow: 0 1px 2px rgba(60, 64, 67, 0.3), 0 1px 3px 1px rgba(60, 64, 67, 0.15);\n",
              "    fill: var(--button-hover-fill-color);\n",
              "  }\n",
              "\n",
              "  .colab-df-quickchart-complete:disabled,\n",
              "  .colab-df-quickchart-complete:disabled:hover {\n",
              "    background-color: var(--disabled-bg-color);\n",
              "    fill: var(--disabled-fill-color);\n",
              "    box-shadow: none;\n",
              "  }\n",
              "\n",
              "  .colab-df-spinner {\n",
              "    border: 2px solid var(--fill-color);\n",
              "    border-color: transparent;\n",
              "    border-bottom-color: var(--fill-color);\n",
              "    animation:\n",
              "      spin 1s steps(1) infinite;\n",
              "  }\n",
              "\n",
              "  @keyframes spin {\n",
              "    0% {\n",
              "      border-color: transparent;\n",
              "      border-bottom-color: var(--fill-color);\n",
              "      border-left-color: var(--fill-color);\n",
              "    }\n",
              "    20% {\n",
              "      border-color: transparent;\n",
              "      border-left-color: var(--fill-color);\n",
              "      border-top-color: var(--fill-color);\n",
              "    }\n",
              "    30% {\n",
              "      border-color: transparent;\n",
              "      border-left-color: var(--fill-color);\n",
              "      border-top-color: var(--fill-color);\n",
              "      border-right-color: var(--fill-color);\n",
              "    }\n",
              "    40% {\n",
              "      border-color: transparent;\n",
              "      border-right-color: var(--fill-color);\n",
              "      border-top-color: var(--fill-color);\n",
              "    }\n",
              "    60% {\n",
              "      border-color: transparent;\n",
              "      border-right-color: var(--fill-color);\n",
              "    }\n",
              "    80% {\n",
              "      border-color: transparent;\n",
              "      border-right-color: var(--fill-color);\n",
              "      border-bottom-color: var(--fill-color);\n",
              "    }\n",
              "    90% {\n",
              "      border-color: transparent;\n",
              "      border-bottom-color: var(--fill-color);\n",
              "    }\n",
              "  }\n",
              "</style>\n",
              "\n",
              "      <script>\n",
              "        async function quickchart(key) {\n",
              "          const quickchartButtonEl =\n",
              "            document.querySelector('#' + key + ' button');\n",
              "          quickchartButtonEl.disabled = true;  // To prevent multiple clicks.\n",
              "          quickchartButtonEl.classList.add('colab-df-spinner');\n",
              "          try {\n",
              "            const charts = await google.colab.kernel.invokeFunction(\n",
              "                'suggestCharts', [key], {});\n",
              "          } catch (error) {\n",
              "            console.error('Error during call to suggestCharts:', error);\n",
              "          }\n",
              "          quickchartButtonEl.classList.remove('colab-df-spinner');\n",
              "          quickchartButtonEl.classList.add('colab-df-quickchart-complete');\n",
              "        }\n",
              "        (() => {\n",
              "          let quickchartButtonEl =\n",
              "            document.querySelector('#df-d79979f4-3c67-4314-93a3-f7c6a29fd556 button');\n",
              "          quickchartButtonEl.style.display =\n",
              "            google.colab.kernel.accessAllowed ? 'block' : 'none';\n",
              "        })();\n",
              "      </script>\n",
              "    </div>\n",
              "\n",
              "    </div>\n",
              "  </div>\n"
            ],
            "application/vnd.google.colaboratory.intrinsic+json": {
              "type": "dataframe",
              "variable_name": "df",
              "summary": "{\n  \"name\": \"df\",\n  \"rows\": 14,\n  \"fields\": [\n    {\n      \"column\": \"Country\",\n      \"properties\": {\n        \"dtype\": \"string\",\n        \"num_unique_values\": 14,\n        \"samples\": [\n          \"Iraq\",\n          \"Jordan\",\n          \"India\"\n        ],\n        \"semantic_type\": \"\",\n        \"description\": \"\"\n      }\n    },\n    {\n      \"column\": \"Region\",\n      \"properties\": {\n        \"dtype\": \"category\",\n        \"num_unique_values\": 2,\n        \"samples\": [\n          \"Middle East\",\n          \"South Asia\"\n        ],\n        \"semantic_type\": \"\",\n        \"description\": \"\"\n      }\n    },\n    {\n      \"column\": \"Happiness_Score\",\n      \"properties\": {\n        \"dtype\": \"number\",\n        \"std\": 1.2347464392460379,\n        \"min\": 1.859,\n        \"max\": 6.561,\n        \"num_unique_values\": 14,\n        \"samples\": [\n          4.411,\n          4.956\n        ],\n        \"semantic_type\": \"\",\n        \"description\": \"\"\n      }\n    },\n    {\n      \"column\": \"GDP_per_Capita_USD\",\n      \"properties\": {\n        \"dtype\": \"number\",\n        \"std\": 19933.148936260714,\n        \"min\": 1380.0,\n        \"max\": 62700.0,\n        \"num_unique_values\": 12,\n        \"samples\": [\n          4400.0,\n          62700.0\n        ],\n        \"semantic_type\": \"\",\n        \"description\": \"\"\n      }\n    },\n    {\n      \"column\": \"Social_Support\",\n      \"properties\": {\n        \"dtype\": \"number\",\n        \"std\": 0.1189290350781313,\n        \"min\": 0.512,\n        \"max\": 0.91,\n        \"num_unique_values\": 13,\n        \"samples\": [\n          0.787,\n          0.91\n        ],\n        \"semantic_type\": \"\",\n        \"description\": \"\"\n      }\n    },\n    {\n      \"column\": \"Literacy_Rate(%)\",\n      \"properties\": {\n        \"dtype\": \"number\",\n        \"std\": 17.52315422707721,\n        \"min\": 38.1,\n        \"max\": 98.2,\n        \"num_unique_values\": 14,\n        \"samples\": [\n          80.5,\n          95.8\n        ],\n        \"semantic_type\": \"\",\n        \"description\": \"\"\n      }\n    },\n    {\n      \"column\": \"Offline_School_Enrollment(%)\",\n      \"properties\": {\n        \"dtype\": \"number\",\n        \"std\": 15.073805603914868,\n        \"min\": 45.0,\n        \"max\": 97.6,\n        \"num_unique_values\": 14,\n        \"samples\": [\n          77.5,\n          88.0\n        ],\n        \"semantic_type\": \"\",\n        \"description\": \"\"\n      }\n    },\n    {\n      \"column\": \"Online_Education_Access(%)\",\n      \"properties\": {\n        \"dtype\": \"number\",\n        \"std\": 9.52102358519766,\n        \"min\": 2.8,\n        \"max\": 38.2,\n        \"num_unique_values\": 14,\n        \"samples\": [\n          12.7,\n          21.5\n        ],\n        \"semantic_type\": \"\",\n        \"description\": \"\"\n      }\n    },\n    {\n      \"column\": \"Median_Income_USD\",\n      \"properties\": {\n        \"dtype\": \"number\",\n        \"std\": 19775.033597642225,\n        \"min\": 1300.0,\n        \"max\": 64000.0,\n        \"num_unique_values\": 12,\n        \"samples\": [\n          5800.0,\n          64000.0\n        ],\n        \"semantic_type\": \"\",\n        \"description\": \"\"\n      }\n    },\n    {\n      \"column\": \"Unemployment_Rate(%)\",\n      \"properties\": {\n        \"dtype\": \"number\",\n        \"std\": 7.884764136897533,\n        \"min\": 0.5,\n        \"max\": 31.0,\n        \"num_unique_values\": 14,\n        \"samples\": [\n          13.5,\n          19.5\n        ],\n        \"semantic_type\": \"\",\n        \"description\": \"\"\n      }\n    },\n    {\n      \"column\": \"Poverty_Rate(%)  \",\n      \"properties\": {\n        \"dtype\": \"number\",\n        \"std\": 12.938493551593067,\n        \"min\": 0.1,\n        \"max\": 55.0,\n        \"num_unique_values\": 14,\n        \"samples\": [\n          18.3,\n          13.9\n        ],\n        \"semantic_type\": \"\",\n        \"description\": \"\"\n      }\n    }\n  ]\n}"
            }
          },
          "metadata": {},
          "execution_count": 26
        }
      ]
    },
    {
      "cell_type": "code",
      "source": [
        "df.info()"
      ],
      "metadata": {
        "id": "CDBCvSrikJW-",
        "outputId": "011f69ac-e4a4-4816-81d8-27be563d4ebc",
        "colab": {
          "base_uri": "https://localhost:8080/"
        }
      },
      "execution_count": 27,
      "outputs": [
        {
          "output_type": "stream",
          "name": "stdout",
          "text": [
            "<class 'pandas.core.frame.DataFrame'>\n",
            "RangeIndex: 14 entries, 0 to 13\n",
            "Data columns (total 11 columns):\n",
            " #   Column                        Non-Null Count  Dtype  \n",
            "---  ------                        --------------  -----  \n",
            " 0   Country                       14 non-null     object \n",
            " 1   Region                        14 non-null     object \n",
            " 2   Happiness_Score               14 non-null     float64\n",
            " 3   GDP_per_Capita_USD            12 non-null     float64\n",
            " 4   Social_Support                14 non-null     float64\n",
            " 5   Literacy_Rate(%)              14 non-null     float64\n",
            " 6   Offline_School_Enrollment(%)  14 non-null     float64\n",
            " 7   Online_Education_Access(%)    14 non-null     float64\n",
            " 8   Median_Income_USD             12 non-null     float64\n",
            " 9   Unemployment_Rate(%)          14 non-null     float64\n",
            " 10  Poverty_Rate(%)               14 non-null     float64\n",
            "dtypes: float64(9), object(2)\n",
            "memory usage: 1.3+ KB\n"
          ]
        }
      ]
    },
    {
      "cell_type": "code",
      "source": [
        "df.shape"
      ],
      "metadata": {
        "id": "CDEQQr4JkKw1",
        "colab": {
          "base_uri": "https://localhost:8080/"
        },
        "outputId": "505ab169-aa2b-4702-a1a0-cfa0d683f78d"
      },
      "execution_count": 29,
      "outputs": [
        {
          "output_type": "execute_result",
          "data": {
            "text/plain": [
              "(14, 11)"
            ]
          },
          "metadata": {},
          "execution_count": 29
        }
      ]
    },
    {
      "cell_type": "code",
      "source": [
        "import matplotlib.pyplot as plt\n"
      ],
      "metadata": {
        "id": "KQ_8Oj0cknS3"
      },
      "execution_count": 30,
      "outputs": []
    },
    {
      "cell_type": "code",
      "source": [
        "fig, ax = plt.subplots()\n",
        "ax.plot(df['Country'],df['Poverty_Rate(%)  '],marker=\"x\",color='r',label=\"Poverty Rate\")\n",
        "ax.plot(df['Country'],df[\"Literacy_Rate(%)\"],marker=\"o\",color='b',label=\"Literacy Rate\")\n",
        "\n",
        "ax.set_xticklabels(df['Country'], rotation=90)\n",
        "ax.grid()\n",
        "ax.legend()\n",
        "plt.show()"
      ],
      "metadata": {
        "colab": {
          "base_uri": "https://localhost:8080/",
          "height": 620
        },
        "id": "purfAcAJlTpw",
        "outputId": "73399bd1-9f5d-4f76-f761-1ec19256f28e"
      },
      "execution_count": 39,
      "outputs": [
        {
          "output_type": "stream",
          "name": "stderr",
          "text": [
            "<ipython-input-39-07591f98aa57>:5: UserWarning: set_ticklabels() should only be used with a fixed number of ticks, i.e. after set_ticks() or using a FixedLocator.\n",
            "  ax.set_xticklabels(df['Country'], rotation=90)\n"
          ]
        },
        {
          "output_type": "display_data",
          "data": {
            "text/plain": [
              "<Figure size 640x480 with 1 Axes>"
            ],
            "image/png": "[encoded data removed]"
          },
          "metadata": {}
        }
      ]
    },
    {
      "cell_type": "markdown",
      "source": [
        "A small interpration can be made that country that has good education has also good less poverty and vice versa"
      ],
      "metadata": {
        "id": "1-5ybv6qnbmV"
      }
    },
    {
      "cell_type": "code",
      "source": [],
      "metadata": {
        "id": "0cma9viElch_"
      },
      "execution_count": null,
      "outputs": []
    }
  ]
}